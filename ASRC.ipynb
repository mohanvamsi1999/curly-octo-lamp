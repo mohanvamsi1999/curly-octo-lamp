{
  "nbformat": 4,
  "nbformat_minor": 0,
  "metadata": {
    "colab": {
      "provenance": [],
      "authorship_tag": "ABX9TyN/dxXXFGwaw/yvPYWKUoK7",
      "include_colab_link": true
    },
    "kernelspec": {
      "name": "python3",
      "display_name": "Python 3"
    },
    "language_info": {
      "name": "python"
    }
  },
  "cells": [
    {
      "cell_type": "markdown",
      "metadata": {
        "id": "view-in-github",
        "colab_type": "text"
      },
      "source": [
        "<a href=\"https://colab.research.google.com/github/mohanvamsi1999/curly-octo-lamp/blob/master/ASRC.ipynb\" target=\"_parent\"><img src=\"https://colab.research.google.com/assets/colab-badge.svg\" alt=\"Open In Colab\"/></a>"
      ]
    },
    {
      "cell_type": "code",
      "execution_count": 4,
      "metadata": {
        "id": "7s3nSgzWOGpQ",
        "colab": {
          "base_uri": "https://localhost:8080/"
        },
        "outputId": "ca02e463-d686-42aa-8ecf-da962278f01a"
      },
      "outputs": [
        {
          "output_type": "stream",
          "name": "stderr",
          "text": [
            "/usr/local/lib/python3.10/dist-packages/pulp/pulp.py:1352: UserWarning: Spaces are not permitted in the name. Converted to '_'\n",
            "  warnings.warn(\"Spaces are not permitted in the name. Converted to '_'\")\n"
          ]
        }
      ],
      "source": [
        "import pulp\n",
        "import itertools\n",
        "from math import floor\n",
        "\n",
        "\n",
        "# Define the set of ASIs and their associated sampling rates\n",
        "ASIs = ['ASI1', 'ASI2', 'ASI3','ASI4']\n",
        "sampling_rates = [8e3, 12e3, 16e3, 24e3, 32e3, 48e3, 96e3, 192e3]\n",
        "sampling_rates = [(44.1/48)*ii for ii in sampling_rates] + sampling_rates\n",
        "\n",
        "# Define the cost constraint\n",
        "cost_constraint = 1\n",
        "num_channels = 16\n",
        "DSP_clk = 100e6\n",
        "num_iter = 0\n",
        "max_buffer_size = 0\n",
        "\n",
        "# Initialize lists to store valid transformations and the current transformation set\n",
        "max_buffer_transformations = {}\n",
        "max_values = {}\n",
        "\n",
        "# Function to calculate the cost of a transformation\n",
        "def calculate_cost1(input_rate, output_rate):\n",
        "    if output_rate > input_rate:\n",
        "      if output_rate < 8*input_rate:\n",
        "        zeta = 1/DSP_clk\n",
        "      else:\n",
        "        zeta = 1\n",
        "    else:\n",
        "      if output_rate > input_rate/8:\n",
        "        zeta = (input_rate / output_rate)/DSP_clk\n",
        "      else:\n",
        "        zeta = 1\n",
        "    return output_rate*140*zeta\n",
        "\n",
        "# Function to calculate the cost of a transformation\n",
        "def calculate_cost2(input_rate, output_rate):\n",
        "    if output_rate > input_rate:\n",
        "        zeta = 1/DSP_clk\n",
        "    else:\n",
        "        zeta = (input_rate / output_rate)/DSP_clk\n",
        "    return  140*zeta\n",
        "\n",
        "\n",
        "# Function to calculate the cost of all the 12 possible transformations, given the 4 rates f1, f2, f3, f4 using calculate cost function\n",
        "# Also, let us use itertools.permutations to get all the possible permutations of the 4 rates\n",
        "\n",
        "def calculate_all_costs(f1, f2, f3, f4):\n",
        "    # list of costs\n",
        "    costs = {}\n",
        "    for fx, fy in itertools.permutations([f1, f2, f3, f4], 2):\n",
        "        # append to the list of costs\n",
        "        costs[(fx,fy)] = [calculate_cost1(fx, fy), calculate_cost2(fx, fy)]\n",
        "    return costs\n",
        "\n",
        "all_combinations = itertools.combinations_with_replacement(sampling_rates, 4)\n",
        "\n",
        "for f1,f2,f3,f4 in all_combinations:\n",
        "    num_iter = num_iter + 1\n",
        "    costs = calculate_all_costs(f1, f2, f3, f4)\n",
        "    # Coefficients of the objective function\n",
        "    p = {k: v[1] for k, v in costs.items()}\n",
        "\n",
        "    # Coefficients of the inequality constraint\n",
        "    w = {k: v[0] for k, v in costs.items()}\n",
        "\n",
        "    # Define the problem\n",
        "    prob = pulp.LpProblem(\"The Problem\", pulp.LpMaximize)\n",
        "\n",
        "    # Decision variables\n",
        "    x = pulp.LpVariable.dicts(\"x\", costs.keys(), 0, None, cat='Integer')\n",
        "\n",
        "    # Objective function\n",
        "    prob += pulp.lpSum([p[i]*x[i] for i in costs.keys()])\n",
        "\n",
        "    # Constraints\n",
        "    prob += pulp.lpSum([w[i]*x[i] for i in costs.keys()]) <= cost_constraint\n",
        "    prob += pulp.lpSum([x[i] for i in costs.keys()]) <= num_channels\n",
        "\n",
        "    # Solve the problem\n",
        "    status = prob.solve()\n",
        "\n",
        "    if pulp.LpStatus[status] == 'Optimal':\n",
        "        objective_value = pulp.value(prob.objective)\n",
        "        #print(\"Objective Value: \", objective_value)\n",
        "        max_values[(f1, f2, f3, f4)] = objective_value\n",
        "        max_buffer_transformations[(f1, f2, f3, f4)] = {i: pulp.value(x[i]) for i in costs.keys()}\n",
        "\n",
        "\n",
        "for asi_freq in max_values:\n",
        "  buffer_size = 0\n",
        "  for freq in asi_freq:\n",
        "    buffer_size += floor(freq*max_values[asi_freq]) + 1\n",
        "  if buffer_size > max_buffer_size:\n",
        "    max_buffer_size = buffer_size\n"
      ]
    },
    {
      "cell_type": "code",
      "source": [
        "!pip install pulp"
      ],
      "metadata": {
        "colab": {
          "base_uri": "https://localhost:8080/"
        },
        "id": "hiwHI6oyzsZQ",
        "outputId": "5d22ea53-d065-4990-a096-11f2c57a3d7b"
      },
      "execution_count": 3,
      "outputs": [
        {
          "output_type": "stream",
          "name": "stdout",
          "text": [
            "Collecting pulp\n",
            "  Downloading PuLP-2.7.0-py3-none-any.whl (14.3 MB)\n",
            "\u001b[2K     \u001b[90m━━━━━━━━━━━━━━━━━━━━━━━━━━━━━━━━━━━━━━━━\u001b[0m \u001b[32m14.3/14.3 MB\u001b[0m \u001b[31m27.1 MB/s\u001b[0m eta \u001b[36m0:00:00\u001b[0m\n",
            "\u001b[?25hInstalling collected packages: pulp\n",
            "Successfully installed pulp-2.7.0\n"
          ]
        }
      ]
    },
    {
      "cell_type": "code",
      "source": [
        "max_buffer_size\n"
      ],
      "metadata": {
        "colab": {
          "base_uri": "https://localhost:8080/"
        },
        "id": "c2d0r1cxjrEm",
        "outputId": "ca5d71b3-5ac4-4596-80c3-c02b8f348cd7"
      },
      "execution_count": 5,
      "outputs": [
        {
          "output_type": "execute_result",
          "data": {
            "text/plain": [
              "59"
            ]
          },
          "metadata": {},
          "execution_count": 5
        }
      ]
    },
    {
      "cell_type": "code",
      "source": [
        "# Find the key with the maximum value in the dictionary\n",
        "max_key = max(max_values, key=lambda k: max_values[k])\n",
        "\n",
        "# Find the maximum value itself\n",
        "max_value = max_values[max_key]"
      ],
      "metadata": {
        "id": "RATVH06xjXBO"
      },
      "execution_count": 7,
      "outputs": []
    },
    {
      "cell_type": "code",
      "source": [],
      "metadata": {
        "id": "LgmgD_zZ2G7Q"
      },
      "execution_count": null,
      "outputs": []
    },
    {
      "cell_type": "code",
      "source": [
        "max_key"
      ],
      "metadata": {
        "colab": {
          "base_uri": "https://localhost:8080/"
        },
        "id": "uNH4h_DCrDy_",
        "outputId": "c5a4f2d6-81c9-43ce-9bfd-79060b943455"
      },
      "execution_count": 8,
      "outputs": [
        {
          "output_type": "execute_result",
          "data": {
            "text/plain": [
              "(7350.000000000001, 7350.000000000001, 7350.000000000001, 44100.0)"
            ]
          },
          "metadata": {},
          "execution_count": 8
        }
      ]
    },
    {
      "cell_type": "code",
      "source": [
        "max_value"
      ],
      "metadata": {
        "colab": {
          "base_uri": "https://localhost:8080/"
        },
        "id": "tr0WWvhnrIO4",
        "outputId": "f7416614-17d3-4808-a220-a184e4cd9b4b"
      },
      "execution_count": 9,
      "outputs": [
        {
          "output_type": "execute_result",
          "data": {
            "text/plain": [
              "0.0001344"
            ]
          },
          "metadata": {},
          "execution_count": 9
        }
      ]
    },
    {
      "cell_type": "code",
      "source": [
        "import pulp\n",
        "import itertools\n",
        "from math import floor\n",
        "\n",
        "\n",
        "# Define the set of ASIs and their associated sampling rates\n",
        "ASIs = ['ASI1', 'ASI2', 'ASI3','ASI4']\n",
        "sampling_rates = [8e3, 12e3, 16e3, 24e3, 32e3, 48e3, 96e3, 192e3]\n",
        "sampling_rates = [(44.1/48)*ii for ii in sampling_rates] + sampling_rates\n",
        "\n",
        "# Define the cost constraint\n",
        "cost_constraint = 1\n",
        "num_channels = 16\n",
        "DSP_clk = 100e6\n",
        "num_iter = 0\n",
        "max_buffer_size = 0\n",
        "max_service_time = 135e-6\n",
        "\n",
        "# Initialize lists to store valid transformations and the current transformation set\n",
        "max_buffer_transformations = {}\n",
        "max_values = {}\n",
        "\n",
        "# Function to calculate the cost of a transformation\n",
        "def calculate_cost1(input_rate, output_rate):\n",
        "    if output_rate > input_rate:\n",
        "      if output_rate < 8*input_rate:\n",
        "        zeta = 1/DSP_clk\n",
        "      else:\n",
        "        zeta = 1\n",
        "    else:\n",
        "      if output_rate > input_rate/8:\n",
        "        zeta = (input_rate / output_rate)/DSP_clk\n",
        "      else:\n",
        "        zeta = 1\n",
        "    return output_rate*140*zeta\n",
        "\n",
        "# Function to calculate the cost of a transformation\n",
        "def calculate_cost2(input_rate, output_rate):\n",
        "    if output_rate > input_rate:\n",
        "        zeta = 1/DSP_clk\n",
        "    else:\n",
        "        zeta = (input_rate / output_rate)/DSP_clk\n",
        "    return  140*zeta\n",
        "\n",
        "# Function to calculate the cost of a transformation\n",
        "def calculate_cost3(input_rate, output_rate):\n",
        "    num_taps = 67\n",
        "    if output_rate > input_rate:\n",
        "        filter_buf = num_taps + 1\n",
        "    else:\n",
        "        filter_buf = floor(num_taps*(input_rate/output_rate)) + 2\n",
        "    return floor(input_rate*max_service_time)+floor(output_rate*max_service_time)+4+filter_buf\n",
        "\n",
        "# Function to calculate the cost of all the 12 possible transformations, given the 4 rates f1, f2, f3, f4 using calculate cost function\n",
        "# Also, let us use itertools.permutations to get all the possible permutations of the 4 rates\n",
        "\n",
        "def calculate_all_costs(f1, f2, f3, f4):\n",
        "    # list of costs\n",
        "    costs = {}\n",
        "    for fx, fy in itertools.permutations([f1, f2, f3, f4], 2):\n",
        "        # append to the list of costs\n",
        "        costs[(fx,fy)] = [calculate_cost1(fx, fy), calculate_cost2(fx, fy), calculate_cost3(fx,fy)]\n",
        "    return costs\n",
        "\n",
        "all_combinations = itertools.combinations_with_replacement(sampling_rates, 4)\n",
        "\n",
        "for f1,f2,f3,f4 in all_combinations:\n",
        "    num_iter = num_iter + 1\n",
        "    costs = calculate_all_costs(f1, f2, f3, f4)\n",
        "\n",
        "    # Coefficients of the objective function\n",
        "    q = {k: v[2] for k, v in costs.items()}\n",
        "\n",
        "    # Coefficients of the objective function\n",
        "    p = {k: v[1] for k, v in costs.items()}\n",
        "\n",
        "    # Coefficients of the inequality constraint\n",
        "    w = {k: v[0] for k, v in costs.items()}\n",
        "\n",
        "    # Define the problem\n",
        "    prob = pulp.LpProblem(\"The Problem\", pulp.LpMaximize)\n",
        "\n",
        "    # Decision variables\n",
        "    x = pulp.LpVariable.dicts(\"x\", costs.keys(), 0, None, cat='Integer')\n",
        "\n",
        "    # Objective function uses p to find service time and q for memory size\n",
        "    prob += pulp.lpSum([q[i]*x[i] for i in costs.keys()])\n",
        "\n",
        "    # Constraints\n",
        "    prob += pulp.lpSum([w[i]*x[i] for i in costs.keys()]) <= cost_constraint\n",
        "    prob += pulp.lpSum([x[i] for i in costs.keys()]) <= num_channels\n",
        "\n",
        "    # Solve the problem\n",
        "    status = prob.solve()\n",
        "\n",
        "    if pulp.LpStatus[status] == 'Optimal':\n",
        "        objective_value = pulp.value(prob.objective)\n",
        "        #print(\"Objective Value: \", objective_value)\n",
        "        max_values[(f1, f2, f3, f4)] = objective_value\n",
        "        max_buffer_transformations[(f1, f2, f3, f4)] = {i: pulp.value(x[i]) for i in costs.keys()}\n",
        "\n",
        "# Find the key with the maximum value in the dictionary\n",
        "max_key = max(max_values, key=lambda k: max_values[k])\n",
        "\n",
        "# This is either the interrupt queue length or buffer memory needed.\n",
        "max_value = max_values[max_key]\n",
        "\n",
        "for asi_freq in max_values:\n",
        "  buffer_size = 0\n",
        "  for freq in asi_freq:\n",
        "    buffer_size += floor(freq*max_values[asi_freq]) + 1\n",
        "  if buffer_size > max_buffer_size:\n",
        "    max_buffer_size = buffer_size\n"
      ],
      "metadata": {
        "colab": {
          "base_uri": "https://localhost:8080/"
        },
        "id": "9007f2WsgG17",
        "outputId": "eddce985-3be4-47d5-c688-a358e1298435"
      },
      "execution_count": 13,
      "outputs": [
        {
          "output_type": "stream",
          "name": "stderr",
          "text": [
            "/usr/local/lib/python3.10/dist-packages/pulp/pulp.py:1352: UserWarning: Spaces are not permitted in the name. Converted to '_'\n",
            "  warnings.warn(\"Spaces are not permitted in the name. Converted to '_'\")\n"
          ]
        }
      ]
    },
    {
      "cell_type": "code",
      "source": [
        "max_value"
      ],
      "metadata": {
        "colab": {
          "base_uri": "https://localhost:8080/"
        },
        "id": "IlsSzQyU2IWs",
        "outputId": "09637f33-7b08-45db-ee2e-35deac89e130"
      },
      "execution_count": 14,
      "outputs": [
        {
          "output_type": "execute_result",
          "data": {
            "text/plain": [
              "6679.0"
            ]
          },
          "metadata": {},
          "execution_count": 14
        }
      ]
    },
    {
      "cell_type": "code",
      "source": [
        "max_buffer_transformations[max_key]"
      ],
      "metadata": {
        "colab": {
          "base_uri": "https://localhost:8080/"
        },
        "id": "c5w5OUuO6ewu",
        "outputId": "fd3cc720-26c5-4b18-eec1-c10432e0cc04"
      },
      "execution_count": 15,
      "outputs": [
        {
          "output_type": "execute_result",
          "data": {
            "text/plain": [
              "{(7350.000000000001, 29400.000000000004): 0.0,\n",
              " (7350.000000000001, 12000.0): 0.0,\n",
              " (7350.000000000001, 48000.0): 0.0,\n",
              " (29400.000000000004, 7350.000000000001): 1.0,\n",
              " (29400.000000000004, 12000.0): 0.0,\n",
              " (29400.000000000004, 48000.0): 0.0,\n",
              " (12000.0, 7350.000000000001): 1.0,\n",
              " (12000.0, 29400.000000000004): 0.0,\n",
              " (12000.0, 48000.0): 0.0,\n",
              " (48000.0, 7350.000000000001): 14.0,\n",
              " (48000.0, 29400.000000000004): 0.0,\n",
              " (48000.0, 12000.0): 0.0}"
            ]
          },
          "metadata": {},
          "execution_count": 15
        }
      ]
    }
  ]
}